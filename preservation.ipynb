{
 "cells": [
  {
   "cell_type": "code",
   "execution_count": 1,
   "metadata": {},
   "outputs": [
    {
     "name": "stdout",
     "output_type": "stream",
     "text": [
      "141 136\n",
      "277\n"
     ]
    },
    {
     "name": "stderr",
     "output_type": "stream",
     "text": [
      "100%|██████████| 8000/8000 [00:01<00:00, 4145.64it/s]"
     ]
    },
    {
     "name": "stdout",
     "output_type": "stream",
     "text": [
      "tensor([[0.6000, 0.3000, 0.1000]])\n",
      "tensor([[0.4000, 0.2000, 0.4000]])\n"
     ]
    },
    {
     "name": "stderr",
     "output_type": "stream",
     "text": [
      "\n"
     ]
    }
   ],
   "source": [
    "from model import *\n",
    "\n",
    "x_good = torch.tensor([[1., 0.]])\n",
    "x_bad = torch.tensor([[0., 1.]])\n",
    "\n",
    "def recover_params_with_probs_with_x(good_probs, bad_probs):\n",
    "    theta = torch.randn(2, 3, requires_grad=True)\n",
    "    learning_rate = 0.1\n",
    "    num_iterations = 8000\n",
    "    \n",
    "    good_probs = torch.tensor(good_probs)\n",
    "    bad_probs = torch.tensor(bad_probs)\n",
    "    \n",
    "    for _ in tqdm(range(num_iterations)):\n",
    "        pred_good_probs = F.softmax(x_good.matmul(theta), -1).squeeze()\n",
    "        pred_bad_probs = F.softmax(x_bad.matmul(theta), -1).squeeze()\n",
    "\n",
    "        loss = torch.mean((pred_good_probs - good_probs) ** 2 + (pred_bad_probs - bad_probs) ** 2)\n",
    "        loss.backward()\n",
    "        with torch.no_grad():\n",
    "            theta -= learning_rate*theta.grad\n",
    "        theta.grad.zero_()\n",
    "    return theta.data.cpu().numpy().tolist()\n",
    "\n",
    "\n",
    "pi_star_good_probs = [0.6, 0.3, 0.1]\n",
    "# pi_star_bad_probs = [0.4, 0.2, 0.4]\n",
    "pi_star_bad_probs = [0.6, 0.2, 0.2]\n",
    "\n",
    "random.seed(99)\n",
    "\n",
    "data_good = generate_data(pi_star_good_probs, 200)\n",
    "data_bad = generate_data(pi_star_bad_probs, 200)\n",
    "print(len(data_good), len(data_bad))\n",
    "\n",
    "preservation_data = [(x[0], x[1], x_good) for x in data_good] + [(x[0], x[1], x_bad) for x in data_bad]\n",
    "# preservation_data = [(x[0], x[1], x_good) for x in data_good]\n",
    "random.shuffle(preservation_data)\n",
    "print(len(preservation_data))\n",
    "\n",
    "\n",
    "# ref_bad_probs = [0.6, 0.2, 0.2]\n",
    "ref_bad_probs = [0.4, 0.2, 0.4]\n",
    "ref_theta_with_x = recover_params_with_probs_with_x(pi_star_good_probs, ref_bad_probs)\n",
    "print(F.softmax(x_good.matmul(torch.tensor(ref_theta_with_x)), -1))\n",
    "print(F.softmax(x_bad.matmul(torch.tensor(ref_theta_with_x)), -1))"
   ]
  },
  {
   "cell_type": "code",
   "execution_count": 2,
   "metadata": {},
   "outputs": [
    {
     "name": "stdout",
     "output_type": "stream",
     "text": [
      "-5\n",
      "Training dpo\n"
     ]
    },
    {
     "name": "stdout",
     "output_type": "stream",
     "text": [
      "Training ipo\n",
      "Training f-dpo\n",
      "-4\n",
      "Training dpo\n",
      "Training ipo\n",
      "Training f-dpo\n",
      "-3\n",
      "Training dpo\n",
      "Training ipo\n",
      "Training f-dpo\n",
      "-2\n",
      "Training dpo\n",
      "Training ipo\n",
      "Training f-dpo\n",
      "-1\n",
      "Training dpo\n",
      "Training ipo\n",
      "Training f-dpo\n",
      "0\n",
      "Training dpo\n",
      "Training ipo\n",
      "Training f-dpo\n",
      "1\n",
      "Training dpo\n",
      "Training ipo\n",
      "Training f-dpo\n",
      "2\n",
      "Training dpo\n",
      "Training ipo\n",
      "Training f-dpo\n",
      "3\n",
      "Training dpo\n",
      "Training ipo\n",
      "Training f-dpo\n",
      "4\n",
      "Training dpo\n",
      "Training ipo\n",
      "Training f-dpo\n",
      "5\n",
      "Training dpo\n",
      "Training ipo\n",
      "Training f-dpo\n"
     ]
    }
   ],
   "source": [
    "import warnings\n",
    "warnings.filterwarnings(\"ignore\")\n",
    "\n",
    "log_lambdas = [-5, -4, -3, -2, -1, 0, 1, 2, 3, 4, 5]\n",
    "batch_size=1\n",
    "\n",
    "preservation_dpo_policy = []\n",
    "preservation_ipo_policy = []\n",
    "preservation_fdpo_policy = []\n",
    "for v in log_lambdas:\n",
    "    print(v)\n",
    "    preservation_dpo_policy.append(train(preservation_data, ref_theta_with_x, 'dpo', np.exp(v), num_epochs=50, lr=1e-3, batch_size=batch_size)[0])\n",
    "    preservation_ipo_policy.append(train(preservation_data, ref_theta_with_x, 'ipo', np.exp(v), num_epochs=50, lr=1e-3, batch_size=batch_size)[0])\n",
    "    preservation_fdpo_policy.append(train(preservation_data, ref_theta_with_x, 'f-dpo', np.exp(v), num_epochs=100, lr=1e-3, batch_size=batch_size)[0])"
   ]
  },
  {
   "cell_type": "code",
   "execution_count": 3,
   "metadata": {},
   "outputs": [
    {
     "name": "stdout",
     "output_type": "stream",
     "text": [
      "-5\n",
      "Training expo\n"
     ]
    },
    {
     "name": "stdout",
     "output_type": "stream",
     "text": [
      "-4\n",
      "Training expo\n",
      "-3\n",
      "Training expo\n",
      "-2\n",
      "Training expo\n",
      "-1\n",
      "Training expo\n",
      "0\n",
      "Training expo\n",
      "1\n",
      "Training expo\n",
      "2\n",
      "Training expo\n",
      "3\n",
      "Training expo\n",
      "4\n",
      "Training expo\n",
      "5\n",
      "Training expo\n"
     ]
    }
   ],
   "source": [
    "preservation_expo_policy = []\n",
    "for v in log_lambdas:\n",
    "    print(v)\n",
    "    preservation_expo_policy.append(train(preservation_data, ref_theta_with_x, 'expo', np.exp(v), num_epochs=200, lr=5e-4, batch_size=batch_size)[0])"
   ]
  },
  {
   "cell_type": "code",
   "execution_count": 4,
   "metadata": {},
   "outputs": [
    {
     "data": {
      "image/png": "[encoded data removed]",
      "text/plain": [
       "<Figure size 600x300 with 2 Axes>"
      ]
     },
     "metadata": {},
     "output_type": "display_data"
    }
   ],
   "source": [
    "def prob_dist(probs1, probs2, type='kl'):\n",
    "    probs1 = torch.tensor(probs1)\n",
    "    probs2 = torch.tensor(probs2)\n",
    "    \n",
    "    if type == 'kl':\n",
    "        d = F.kl_div(torch.log(probs2), torch.log(probs1), log_target=True)\n",
    "        # d = F.kl_div(torch.log(probs1), torch.log(probs2), log_target=True)\n",
    "    \n",
    "    # d = ((probs1 - probs2) ** 2).sum().sqrt().item()\n",
    "    \n",
    "    return d\n",
    "\n",
    "def get_probs(pi, x):\n",
    "    pi = pi.cpu()\n",
    "    probs = F.softmax(torch.tensor(x).matmul(torch.tensor(pi)), -1).squeeze()\n",
    "    return probs.data.numpy().tolist()\n",
    "\n",
    "dpo_good_dists = [prob_dist(pi_star_good_probs, get_probs(pi, x_good)) for pi in preservation_dpo_policy]\n",
    "dpo_bad_dists = [prob_dist(pi_star_bad_probs, get_probs(pi, x_bad)) for pi in preservation_dpo_policy]\n",
    "dpo_bad_dists_to_ref = [prob_dist(ref_bad_probs, get_probs(pi, x_bad)) for pi in preservation_dpo_policy]\n",
    "\n",
    "ipo_good_dists = [prob_dist(pi_star_good_probs, get_probs(pi, x_good)) for pi in preservation_ipo_policy]\n",
    "ipo_bad_dists = [prob_dist(pi_star_bad_probs, get_probs(pi, x_bad)) for pi in preservation_ipo_policy]\n",
    "ipo_bad_dists_to_ref = [prob_dist(ref_bad_probs, get_probs(pi, x_bad)) for pi in preservation_ipo_policy]\n",
    "\n",
    "fdpo_good_dists = [prob_dist(pi_star_good_probs, get_probs(pi, x_good)) for pi in preservation_fdpo_policy]\n",
    "fdpo_bad_dists = [prob_dist(pi_star_bad_probs, get_probs(pi, x_bad)) for pi in preservation_fdpo_policy]\n",
    "fdpo_bad_dists_to_ref = [prob_dist(ref_bad_probs, get_probs(pi, x_bad)) for pi in preservation_fdpo_policy]\n",
    "\n",
    "expo_good_dists = [prob_dist(pi_star_good_probs, get_probs(pi, x_good)) for pi in preservation_expo_policy]\n",
    "expo_bad_dists = [prob_dist(pi_star_bad_probs, get_probs(pi, x_bad)) for pi in preservation_expo_policy]\n",
    "expo_bad_dists_to_ref = [prob_dist(ref_bad_probs, get_probs(pi, x_bad)) for pi in preservation_expo_policy]\n",
    "\n",
    "\n",
    "ref_dist = prob_dist(pi_star_bad_probs, ref_bad_probs)\n",
    "\n",
    "import matplotlib.pyplot as plt\n",
    "\n",
    "fig, ax = plt.subplots(1, 2, sharey='row', figsize=(6, 3))\n",
    "\n",
    "ax[0].set_title('Good Cases')\n",
    "# ax[0].set_ylabel('dist$[\\pi^*(y|x), \\pi_{\\\\theta}(y|x)]$')\n",
    "ax[0].set_xlabel('$\\log{\\lambda}$')\n",
    "ax[0].plot(log_lambdas, dpo_good_dists, label='DPO')\n",
    "ax[0].plot(log_lambdas, ipo_good_dists, label='IPO')\n",
    "ax[0].plot(log_lambdas, fdpo_good_dists, label='$f$-DPO')\n",
    "ax[0].plot(log_lambdas, expo_good_dists, label='EXPO')\n",
    "# ax[0].set_xticks(log_lambdas)\n",
    "\n",
    "ax[1].set_title('Bad Cases')\n",
    "ax[1].set_xlabel('$\\log{\\lambda}$')\n",
    "ax[1].axhline(ref_dist, linestyle='--', color='c')\n",
    "ax[1].plot(log_lambdas, dpo_bad_dists, label='DPO')\n",
    "ax[1].plot(log_lambdas, ipo_bad_dists, label='IPO')\n",
    "ax[1].plot(log_lambdas, fdpo_bad_dists, label='$f$-DPO')\n",
    "ax[1].plot(log_lambdas, expo_bad_dists, label='EXPO')\n",
    "\n",
    "\n",
    "# plt.legend(loc='center left', bbox_to_anchor=(1, 0.5))\n",
    "plt.legend()\n",
    "# fig.suptitle('Preservation Test: Converged $\\pi_{\\\\theta}(y)$ by Varying $\\lambda$', fontsize=14, y=0.96)\n",
    "plt.tight_layout()\n",
    "# plt.show()\n",
    "plt.savefig('toy_exp_preservation_1.pdf', dpi=300)"
   ]
  },
  {
   "cell_type": "code",
   "execution_count": null,
   "metadata": {},
   "outputs": [],
   "source": []
  }
 ],
 "metadata": {
  "kernelspec": {
   "display_name": "dpo",
   "language": "python",
   "name": "python3"
  },
  "language_info": {
   "codemirror_mode": {
    "name": "ipython",
    "version": 3
   },
   "file_extension": ".py",
   "mimetype": "text/x-python",
   "name": "python",
   "nbconvert_exporter": "python",
   "pygments_lexer": "ipython3",
   "version": "3.10.12"
  }
 },
 "nbformat": 4,
 "nbformat_minor": 2
}
